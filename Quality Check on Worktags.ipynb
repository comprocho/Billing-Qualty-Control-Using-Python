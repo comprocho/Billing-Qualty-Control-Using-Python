{
 "cells": [
  {
   "cell_type": "code",
   "execution_count": 18,
   "metadata": {
    "collapsed": false
   },
   "outputs": [],
   "source": [
    "import pandas as pd\n",
    "import numpy as np \n",
    "import glob as glob\n",
    "import re\n",
    "# ls"
   ]
  },
  {
   "cell_type": "code",
   "execution_count": 19,
   "metadata": {
    "collapsed": false
   },
   "outputs": [],
   "source": [
    "# #Location of Total for Histology Billing Excel File\n",
    "# df = pd.read_excel(\"Chung CC4172 1701 PP1003 PG005815 24756.xlsx\", skiprows = 3)\n",
    "# df\n",
    "# df['Total'].loc[40]\n",
    "\n",
    "# #Location of Total for HTB Billing Excel File\n",
    "# df_htb = pd.read_excel(\"+Furth CC4125 1802 PP1001 PG999999 27628 GR409796 HTB.xlsx\", skiprows = 2)\n",
    "# df_htb['Total'].loc[26]\n",
    "\n",
    "# #Location of Total for IDM Billing Excel File\n",
    "# df_idm = pd.read_excel(\"+Wellstein CC4176 1703 PP1001 PG002842 12463 IDM.xlsx\", skiprows = 6)\n",
    "# df_idm['Total'].loc[31]"
   ]
  },
  {
   "cell_type": "code",
   "execution_count": null,
   "metadata": {
    "collapsed": false
   },
   "outputs": [],
   "source": []
  },
  {
   "cell_type": "code",
   "execution_count": 20,
   "metadata": {
    "collapsed": false,
    "scrolled": true
   },
   "outputs": [],
   "source": [
    "file_name = [] #Create an empty list that will contain names of the file\n",
    "prices = [] # Create an empty list that will contain prices\n",
    "# idx = []\n",
    "# count = 0\n",
    "\n",
    "for f in glob.glob(\"documents/*.xlsx\"):\n",
    "    if f.endswith('HTB.xlsx'): #Condition that will filter the file that has a name ending with HTB\n",
    "        df_htb = pd.read_excel(f, skiprows=2)\n",
    "        total_price = df_htb['Total'].loc[26]\n",
    "#         count += 1\n",
    "        file_name.append(f)\n",
    "        prices.append(total_price)\n",
    "#         idx.append(count)\n",
    "    elif f.endswith('IDM.xlsx'): #Condition that will filter the file that has a name ending with IDM\n",
    "        df_idm = pd.read_excel(f, skiprows = 6)\n",
    "        total_price = df_idm['Total'].loc[31]\n",
    "#         count += 1\n",
    "        file_name.append(f)\n",
    "        prices.append(total_price)\n",
    "#         idx.append(count)\n",
    "    else:  \n",
    "        df = pd.read_excel(f,skiprows = 3) #Filter the remaining files that has the name with no HTB or IDM\n",
    "        total_price = df['Total'].loc[40]\n",
    "#         count += 1\n",
    "        file_name.append(f)\n",
    "        prices.append(total_price)\n",
    "#         idx.append(count)\n",
    "\n",
    "#     print (count, '\\t', f,'\\t', '$', total_price)"
   ]
  },
  {
   "cell_type": "code",
   "execution_count": 21,
   "metadata": {
    "collapsed": false,
    "scrolled": false
   },
   "outputs": [],
   "source": [
    "worktags = pd.DataFrame({'Worktag': file_name, 'Price': prices})\n",
    "worktags = worktags[['Worktag', 'Price']]\n",
    "# .set_index('Index')\n",
    "worktags_split = worktags['Worktag'].str.replace('(.xlsx)', '').str.split(\" \", 1, expand = True)\n",
    "worktags['Worktag'] = worktags_split[1]\n",
    "worktags['Price'] = worktags['Price'].astype(float) \n",
    "\n",
    "replacements = {'Worktag' : {r'(HTB|IDM|(\\b\\d\\d\\d\\d\\d\\b))': ''}} #Create a dictionary that will be used for dropping substrings 'HTB' and 'IDM'\n",
    "worktags.replace(replacements, regex= True, inplace=True) #Drop substrings 'HTB' and 'IDM' from 'Worktag' column\n",
    "\n",
    "# worktags = worktags.sort_values(['Price'], ascending = True)\n",
    "# worktags['PI'] = worktags_split[0]\n",
    "# worktags = worktags[['PI','Worktag','Price']]\n",
    "\n",
    "worktags.Worktag = worktags.Worktag.str.split().str.join(' ')"
   ]
  },
  {
   "cell_type": "code",
   "execution_count": 22,
   "metadata": {
    "collapsed": false
   },
   "outputs": [],
   "source": [
    "invoices = pd.read_excel('documents/Invoice Details.xls', skiprows=8)\n",
    "invoices = invoices[['Worktags', 'Fee']]\n",
    "invoices.rename(columns={'Worktags': 'Invoice Worktags', 'Fee': 'Price'}, inplace=True)\n",
    "replacements = {'Invoice Worktags' : {\n",
    "                    r'(GMS Center-|Fund-|Program-|Purpose Code-|Assignee-|Grant-|Gift-|Project-|Lab Support|-|\\(|\\)|(\\b\\d{5}\\b))': '',\n",
    "                    r'(,)': ' '\n",
    "                }\n",
    "            }\n",
    "invoices.replace(replacements, regex= True, inplace=True)\n",
    "invoices = invoices.apply(lambda x: x.astype(str).str.upper())\n",
    "\n",
    "sep = 'CC'\n",
    "rest = invoices['Invoice Worktags'].str.split(sep, 1, expand = True)\n",
    "invoices['Invoice Worktags'] = rest[1]\n",
    "invoices['Invoice Worktags'] = 'CC' + invoices['Invoice Worktags'].astype(str)\n",
    "invoices = invoices[:-1]\n",
    "invoices['Price'] = invoices['Price'].astype(float) \n",
    "\n",
    "# invoices = invoices.sort_values(['Price'], ascending=True)"
   ]
  },
  {
   "cell_type": "code",
   "execution_count": 23,
   "metadata": {
    "collapsed": false
   },
   "outputs": [],
   "source": [
    "#invoices"
   ]
  },
  {
   "cell_type": "code",
   "execution_count": null,
   "metadata": {
    "collapsed": true
   },
   "outputs": [],
   "source": []
  },
  {
   "cell_type": "code",
   "execution_count": 24,
   "metadata": {
    "collapsed": false
   },
   "outputs": [],
   "source": [
    "frames = [worktags, invoices]\n",
    "result = pd.concat(frames, axis=1)\n",
    "# result"
   ]
  },
  {
   "cell_type": "code",
   "execution_count": 25,
   "metadata": {
    "collapsed": true
   },
   "outputs": [],
   "source": [
    "#result.to_excel('results.xlsx')"
   ]
  },
  {
   "cell_type": "code",
   "execution_count": null,
   "metadata": {
    "collapsed": true
   },
   "outputs": [],
   "source": []
  },
  {
   "cell_type": "code",
   "execution_count": 26,
   "metadata": {
    "collapsed": true
   },
   "outputs": [],
   "source": [
    "wt = worktags.set_index('Price').Worktag.str.split(expand=True).stack().to_frame('Worktag').reset_index().rename(columns={'level_1':'idx'})"
   ]
  },
  {
   "cell_type": "code",
   "execution_count": 27,
   "metadata": {
    "collapsed": false
   },
   "outputs": [],
   "source": [
    "iv = invoices.set_index('Price')['Invoice Worktags'].str.split(expand=True).stack().to_frame('Invoice Worktags').reset_index().rename(columns={'level_1':'idx'})"
   ]
  },
  {
   "cell_type": "code",
   "execution_count": 28,
   "metadata": {
    "collapsed": false
   },
   "outputs": [],
   "source": [
    "no_match_idx = wt.loc[~wt.Worktag.isin(iv['Invoice Worktags']), 'idx'].unique()"
   ]
  },
  {
   "cell_type": "code",
   "execution_count": 29,
   "metadata": {
    "collapsed": false
   },
   "outputs": [
    {
     "data": {
      "text/plain": [
       "array([], dtype=int64)"
      ]
     },
     "execution_count": 29,
     "metadata": {},
     "output_type": "execute_result"
    }
   ],
   "source": [
    "no_match_idx"
   ]
  },
  {
   "cell_type": "code",
   "execution_count": 30,
   "metadata": {
    "collapsed": false
   },
   "outputs": [],
   "source": [
    "worktags['Matched_ID'] = ~worktags.index.isin(no_match_idx)\n",
    "worktags['Matched_Value'] = worktags.Price.isin(invoices.Price)"
   ]
  },
  {
   "cell_type": "code",
   "execution_count": 31,
   "metadata": {
    "collapsed": false
   },
   "outputs": [],
   "source": [
    "# worktags"
   ]
  },
  {
   "cell_type": "code",
   "execution_count": null,
   "metadata": {
    "collapsed": true
   },
   "outputs": [],
   "source": []
  },
  {
   "cell_type": "code",
   "execution_count": null,
   "metadata": {
    "collapsed": true
   },
   "outputs": [],
   "source": []
  },
  {
   "cell_type": "code",
   "execution_count": 32,
   "metadata": {
    "collapsed": false,
    "scrolled": true
   },
   "outputs": [],
   "source": [
    "df3= pd.merge(worktags.assign(x=worktags['Worktag'].str.split().apply(sorted).str.join(' ')),\n",
    "              invoices.assign(x=invoices['Invoice Worktags'].str.split().apply(sorted).str.join(' ')),\n",
    "              on=['x', 'Price'],\n",
    "              how='outer',\n",
    "              indicator=True)\n",
    "df3 = df3.sort_values(by='_merge')\n",
    "# df3"
   ]
  },
  {
   "cell_type": "code",
   "execution_count": 33,
   "metadata": {
    "collapsed": false
   },
   "outputs": [],
   "source": [
    "# import fnmatch\n",
    "# import os\n",
    "\n",
    "# count_file = 0\n",
    "# for file in os.listdir('.'):\n",
    "#     if fnmatch.fnmatch(file, '*.xlsx'):\n",
    "#         df = pd.read_excel(file,skiprows = 3)\n",
    "#         total_price = df['Total'].loc[40]\n",
    "        \n",
    "#         count_file += 1\n",
    "#         print (count_file, file, '|',total_price)"
   ]
  },
  {
   "cell_type": "code",
   "execution_count": null,
   "metadata": {
    "collapsed": true
   },
   "outputs": [],
   "source": []
  },
  {
   "cell_type": "code",
   "execution_count": null,
   "metadata": {
    "collapsed": true
   },
   "outputs": [],
   "source": []
  },
  {
   "cell_type": "code",
   "execution_count": null,
   "metadata": {
    "collapsed": true
   },
   "outputs": [],
   "source": []
  },
  {
   "cell_type": "code",
   "execution_count": null,
   "metadata": {
    "collapsed": true
   },
   "outputs": [],
   "source": []
  }
 ],
 "metadata": {
  "anaconda-cloud": {},
  "kernelspec": {
   "display_name": "Python [conda root]",
   "language": "python",
   "name": "conda-root-py"
  },
  "language_info": {
   "codemirror_mode": {
    "name": "ipython",
    "version": 3
   },
   "file_extension": ".py",
   "mimetype": "text/x-python",
   "name": "python",
   "nbconvert_exporter": "python",
   "pygments_lexer": "ipython3",
   "version": "3.5.2"
  }
 },
 "nbformat": 4,
 "nbformat_minor": 1
}
